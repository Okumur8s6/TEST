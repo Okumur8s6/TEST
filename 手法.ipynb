{
 "cells": [
  {
   "cell_type": "markdown",
   "id": "4638df96-1c0d-421c-8609-0621898a9af7",
   "metadata": {},
   "source": [
    "# テキストデータ解析の概要\n",
    "\n",
    "このノートブックでは、日本語テキストデータの基本的な解析手法を一通り実装・確認します。\n",
    "\n",
    "扱う手法は以下の通りです。\n",
    "\n",
    "- **形態素解析**  \n",
    "  テキストを意味の最小単位である形態素に分割し、品詞情報を抽出する。日本語テキスト処理の前処理として必須。\n",
    "\n",
    "- **共起ネットワーク**  \n",
    "  単語同士が同じ文脈で共に出現する関係（共起）をネットワーク構造で表現し、単語の関連性や中心性を分析する。\n",
    "\n",
    "- **感情分析**  \n",
    "  テキストに含まれる感情的傾向（ポジティブ・ネガティブ）を自動的に判定する。\n",
    "\n",
    "- **ワードクラウド**  \n",
    "  単語の出現頻度を視覚的に可視化し、テキスト全体の特徴を直感的に把握する。\n",
    "\n",
    "\n",
    "これらの手法を組み合わせることで、単語レベルの出現傾向だけでなく、単語同士の関係性や文章の感情的特徴まで多面的にテキストを分析できます。\n",
    "\n",
    "本ノートブックでは、それぞれの手法について\n",
    "- 背景と目的\n",
    "- 必要なライブラリの導入\n",
    "- サンプルコードと実行例\n",
    "- 結果の可視化\n",
    "\n",
    "を順に示し、テキストマイニングの基礎を一通り理解できる構成としています。"
   ]
  },
  {
   "cell_type": "markdown",
   "id": "9debf2d7-c8b8-4e87-9467-7d75db10bff8",
   "metadata": {},
   "source": [
    "---"
   ]
  },
  {
   "cell_type": "markdown",
   "id": "b73dd51a-65e3-42be-9fa9-c9de2f6bff06",
   "metadata": {},
   "source": [
    "# 形態素解析の概要と利用例\n",
    "\n",
    "形態素解析とは、文章を「形態素」と呼ばれる意味を持つ最小単位に分割し、それぞれの品詞（名詞、動詞、助詞など）を特定する処理です。  \n",
    "日本語は単語の区切りが空白で明示されないため、自然言語処理の基礎として必須の技術です。\n",
    "\n",
    "例えば、以下の文を考えます。\n",
    ">明日は雨が降るかもしれない。\n",
    "\n",
    "これを形態素解析すると、次のように単語と品詞に分かれます。\n",
    "\n",
    "| 形態素 | 品詞 |\n",
    "|--------|------|\n",
    "| 明日   | 名詞 |\n",
    "| は     | 助詞 |\n",
    "| 雨     | 名詞 |\n",
    "| が     | 助詞 |\n",
    "| 降る   | 動詞 |\n",
    "| かも   | 助詞（副助詞） |\n",
    "| しれ   | 動詞 |\n",
    "| ない   | 助動詞 |\n",
    "| 。     | 記号 |\n",
    "\n",
    "この例のように、形態素解析では**文章構造を機械的に把握**できるため、テキストマイニング、検索エンジン、機械翻訳、チャットボットなど多様な応用が可能になります。\n",
    "\n",
    "## Janomeによる実装例\n",
    "\n",
    "Pythonで手軽に形態素解析を行うライブラリとして、`Janome`がよく利用されます。\n",
    "\n",
    "以下は、先ほどの例文をJanomeで解析するコード例です。"
   ]
  },
  {
   "cell_type": "code",
   "execution_count": 10,
   "id": "eaafdc18-e1cc-4f7a-9605-f318bd0bcfa8",
   "metadata": {},
   "outputs": [
    {
     "name": "stdout",
     "output_type": "stream",
     "text": [
      "表層形: 明日 \t 品詞: 名詞,副詞可能,*,*\n",
      "表層形: は \t 品詞: 助詞,係助詞,*,*\n",
      "表層形: 雨 \t 品詞: 名詞,一般,*,*\n",
      "表層形: が \t 品詞: 助詞,格助詞,一般,*\n",
      "表層形: 降る \t 品詞: 動詞,自立,*,*\n",
      "表層形: かも \t 品詞: 助詞,副助詞,*,*\n",
      "表層形: しれ \t 品詞: 動詞,自立,*,*\n",
      "表層形: ない \t 品詞: 助動詞,*,*,*\n",
      "表層形: 。 \t 品詞: 記号,句点,*,*\n"
     ]
    }
   ],
   "source": [
    "from janome.tokenizer import Tokenizer\n",
    "\n",
    "# 解析対象の文\n",
    "text = \"明日は雨が降るかもしれない。\"\n",
    "\n",
    "# Tokenizerインスタンスを作成\n",
    "tokenizer = Tokenizer()\n",
    "\n",
    "# 形態素解析を実行\n",
    "for token in tokenizer.tokenize(text):\n",
    "    print(f\"表層形: {token.surface} \\t 品詞: {token.part_of_speech}\")"
   ]
  },
  {
   "cell_type": "markdown",
   "id": "7ff61283-3e1c-4026-81e6-e81c72e13e70",
   "metadata": {},
   "source": [
    "---"
   ]
  },
  {
   "cell_type": "markdown",
   "id": "b4ade135-a0d8-4a15-a63e-0f750c39fc77",
   "metadata": {},
   "source": [
    "# 共起ネットワークの概要と利用例\n",
    "\n",
    "共起ネットワークとは、文章や文書集合の中で**単語が同時に出現する関係（共起）**をネットワーク構造で表現する手法です。  \n",
    "単語同士のつながりや重要性を視覚的・統計的に把握することができます。\n",
    "\n",
    "## 基本的な考え方\n",
    "\n",
    "文章を解析し、一定の範囲（例: 同じ文・同じ段落・一定のウィンドウサイズ）に出現した単語の組を**共起関係**とみなします。  \n",
    "これを単語をノード（頂点）、共起回数をエッジ（辺）の重みとしてネットワークにします。\n",
    "\n",
    "たとえば、以下の2つの文章を考えます。\n",
    "\n",
    "1. 猫が庭で遊んでいる。\n",
    "2. 犬と猫が仲良く遊ぶ。\n",
    "\n",
    "このとき、「猫」と「遊ぶ」は両方の文章で一緒に現れます。この共起関係を記録します。\n",
    "\n",
    "## 共起ネットワーク構築の手順\n",
    "\n",
    "1. **テキストを分かち書き・形態素解析**  \n",
    "   単語単位に分割し、不要な品詞（例: 記号や助詞）を除外します。\n",
    "\n",
    "2. **共起ペアの抽出**  \n",
    "   設定したウィンドウ内に共に現れる単語のペアを収集します。\n",
    "\n",
    "3. **共起頻度の計算**  \n",
    "   各ペアがどのくらい出現したかをカウントします。\n",
    "\n",
    "4. **ネットワークの構築**  \n",
    "   単語をノードとし、共起頻度をエッジの重みに設定します。\n",
    "\n",
    "5. **可視化・解析**  \n",
    "   ネットワーク図でつながりを視覚化し、重要な単語やコミュニティを抽出します。\n",
    "\n",
    "## 利用例\n",
    "\n",
    "- テキストマイニングでのキーワード抽出\n",
    "- トピックや文脈の把握\n",
    "- SNSやニュース記事のテーマ分析\n",
    "- マーケティングにおける関連語の発見\n",
    "  \n",
    "## Pythonによる簡易的な実装例\n",
    "\n",
    "共起ネットワークは、Pythonの`collections`や`networkx`ライブラリを組み合わせて作成できます。\n",
    "\n",
    "以下は簡単な例です。"
   ]
  },
  {
   "cell_type": "code",
   "execution_count": 21,
   "id": "a5e69d66-acf9-49be-bab6-c11c7bc580ee",
   "metadata": {},
   "outputs": [
    {
     "data": {
      "image/png": "[encoded data removed]",
      "text/plain": [
       "<Figure size 500x500 with 1 Axes>"
      ]
     },
     "metadata": {},
     "output_type": "display_data"
    }
   ],
   "source": [
    "from janome.tokenizer import Tokenizer\n",
    "from collections import Counter\n",
    "import networkx as nx\n",
    "import matplotlib.pyplot as plt\n",
    "from itertools import combinations\n",
    "\n",
    "# テキスト例\n",
    "texts = [\n",
    "    \"猫が庭で遊んでいる。\",\n",
    "    \"犬と猫が仲良く遊ぶ。\"\n",
    "]\n",
    "\n",
    "# Janomeで形態素解析\n",
    "tokenizer = Tokenizer()\n",
    "tokenized_texts = []\n",
    "for text in texts:\n",
    "    tokens = [token.surface for token in tokenizer.tokenize(text)\n",
    "              if token.part_of_speech.startswith(\"名詞\")]\n",
    "    tokenized_texts.append(tokens)\n",
    "\n",
    "# 共起ペアの抽出\n",
    "pair_counts = Counter()\n",
    "for tokens in tokenized_texts:\n",
    "    for pair in combinations(set(tokens), 2):\n",
    "        pair_counts[tuple(sorted(pair))] += 1\n",
    "\n",
    "# ネットワーク作成\n",
    "G = nx.Graph()\n",
    "for (w1, w2), freq in pair_counts.items():\n",
    "    G.add_edge(w1, w2, weight=freq)\n",
    "\n",
    "# 可視化\n",
    "pos = nx.spring_layout(G)\n",
    "plt.figure(figsize=(5,5))\n",
    "nx.draw_networkx_nodes(G, pos, node_size=700, node_color='lightblue')\n",
    "nx.draw_networkx_labels(G, pos)\n",
    "nx.draw_networkx_edges(G, pos, width=[d['weight'] for _,_,d in G.edges(data=True)])\n",
    "plt.axis('off')\n",
    "plt.show()"
   ]
  },
  {
   "cell_type": "markdown",
   "id": "5a0a213f-840e-406d-b5bb-daa997e186c9",
   "metadata": {},
   "source": [
    "# 共起ネットワークにおける中心性\n",
    "\n",
    "共起ネットワークでは、単語をノード、単語同士の共起関係をエッジとして表現します。  \n",
    "このとき、ネットワーク内の単語（ノード）がどれだけ重要かを定量的に評価するために**中心性（Centrality）**という指標を用います。\n",
    "\n",
    "中心性には複数の種類があり、それぞれ「単語の重要性」を異なる観点から表現します。\n",
    "\n",
    "## 主な中心性指標\n",
    "\n",
    "以下は代表的な中心性指標と、それぞれが表す意味です。\n",
    "\n",
    "### 1. 次数中心性（Degree Centrality）\n",
    "\n",
    "- **定義**  \n",
    "  あるノードと直接つながっているノードの数（次数）です。\n",
    "- **意味**  \n",
    "  多くの単語と共起している単語ほど次数中心性が高くなります。\n",
    "- **解釈例**  \n",
    "  次数中心性が高い単語は、文章全体で幅広い文脈に関与している「汎用的なキーワード」である可能性があります。\n",
    "\n",
    "### 2. 媒介中心性（Betweenness Centrality）\n",
    "\n",
    "- **定義**  \n",
    "  あるノードが他のノード同士を結ぶ最短経路上にどれだけ登場するかを測ります。\n",
    "- **意味**  \n",
    "  他の単語の橋渡しの役割を果たす単語を特定できます。\n",
    "- **解釈例**  \n",
    "  特定のテーマや話題をつなぐ「ハブ的な単語」を抽出できます。\n",
    "\n",
    "### 3. 固有ベクトル中心性（Eigenvector Centrality）\n",
    "\n",
    "- **定義**  \n",
    "  重要なノードとつながっているノードをより高く評価する中心性です。\n",
    "- **意味**  \n",
    "  単に多くつながっているだけでなく、「重要な単語と強く関連している単語」に高いスコアを与えます。\n",
    "- **解釈例**  \n",
    "  コアな話題を構成する単語群の中で影響力を持つ単語を見つけられます。\n",
    "\n",
    "### 4. クローズネス中心性（Closeness Centrality）\n",
    "\n",
    "- **定義**  \n",
    "  ネットワーク内の他のノードへの平均距離の逆数。\n",
    "- **意味**  \n",
    "  全体のネットワークにどれだけ近接しているかを示します。\n",
    "- **解釈例**  \n",
    "  他の単語に素早く「情報が届く」単語＝全体に関連する中心的な単語。\n",
    "\n",
    "\n",
    "## 次数中心性の計算例（Python）\n",
    "\n",
    "以下は`networkx`で次数中心性を計算する例です。\n"
   ]
  },
  {
   "cell_type": "code",
   "execution_count": 27,
   "id": "cc53ae9b-fb79-4c00-a28f-ce193db538e6",
   "metadata": {},
   "outputs": [
    {
     "name": "stdout",
     "output_type": "stream",
     "text": [
      "庭: 0.500\n",
      "猫: 1.000\n",
      "犬: 0.500\n"
     ]
    }
   ],
   "source": [
    "import networkx as nx\n",
    "\n",
    "degree_centrality = nx.degree_centrality(G)\n",
    "\n",
    "# 表示\n",
    "for node, centrality in degree_centrality.items():\n",
    "    print(f\"{node}: {centrality:.3f}\")"
   ]
  },
  {
   "cell_type": "markdown",
   "id": "ffbe02c0-0ab3-417b-b9a6-80f4a19c5550",
   "metadata": {},
   "source": [
    "---"
   ]
  },
  {
   "cell_type": "markdown",
   "id": "320fa66b-6efa-473d-b466-f4664b50cf38",
   "metadata": {},
   "source": [
    "# 感情分析の概要と利用例\n",
    "\n",
    "感情分析（Sentiment Analysis）は、テキストに含まれる**感情的な傾向（ポジティブ・ネガティブなど）**を自動的に判定する手法です。  \n",
    "主にレビューやSNS投稿、アンケート回答などのテキストから、書き手の主観的な感情を数値化・分類するために用いられます。\n",
    "\n",
    "## 基本的な考え方\n",
    "\n",
    "感情分析では、テキストを対象として以下のような処理を行います。\n",
    "\n",
    "1. 文章を単語に分割（形態素解析）\n",
    "2. 単語の感情的意味や文脈をもとに、文章全体の極性（ポジティブ／ネガティブ）を判定\n",
    "3. 必要に応じて、スコア化（例: -1.0〜1.0の数値）やカテゴリ分類を実施\n",
    "\n",
    "感情分析は、数値では捉えにくい主観情報を定量化できる点で非常に有効です。\n",
    "\n",
    "## 利用例\n",
    "\n",
    "- 商品やサービスのレビュー分析（満足・不満）\n",
    "- SNSの投稿分析（炎上傾向・評判変化の検出）\n",
    "- 顧客アンケートの定性データの要約\n",
    "- 映画・書籍・音楽などコンテンツの印象評価\n",
    "\n",
    "## 特徴と留意点\n",
    "\n",
    "感情分析は非常に有用ですが、以下のような課題も存在します。\n",
    "\n",
    "- 皮肉・曖昧な表現に弱い\n",
    "- 文脈に依存する語（「やばい」など）への対応が難しい\n",
    "- 分析対象のドメインに適した辞書やモデルが必要な場合がある\n",
    "\n",
    "\n",
    "## Pythonライブラリ「asari」による実装例\n",
    "\n",
    "`asari`は日本語テキストの簡易的な感情分析を行う軽量なライブラリです。  \n",
    "内部的には深層学習ベースのモデルを使用しており、学習済みモデルにより高い精度を持ちます。\n"
   ]
  },
  {
   "cell_type": "code",
   "execution_count": 43,
   "id": "c0ab832f-4f83-4990-bf8d-97312b6768de",
   "metadata": {},
   "outputs": [
    {
     "ename": "ModuleNotFoundError",
     "evalue": "No module named 'asari'",
     "output_type": "error",
     "traceback": [
      "\u001b[1;31m---------------------------------------------------------------------------\u001b[0m",
      "\u001b[1;31mModuleNotFoundError\u001b[0m                       Traceback (most recent call last)",
      "Cell \u001b[1;32mIn[43], line 1\u001b[0m\n\u001b[1;32m----> 1\u001b[0m \u001b[38;5;28;01mfrom\u001b[39;00m \u001b[38;5;21;01masari\u001b[39;00m\u001b[38;5;21;01m.\u001b[39;00m\u001b[38;5;21;01mapi\u001b[39;00m \u001b[38;5;28;01mimport\u001b[39;00m Sonar\n\u001b[0;32m      3\u001b[0m \u001b[38;5;66;03m# Sonarインスタンスの生成\u001b[39;00m\n\u001b[0;32m      4\u001b[0m sonar \u001b[38;5;241m=\u001b[39m Sonar()\n",
      "\u001b[1;31mModuleNotFoundError\u001b[0m: No module named 'asari'"
     ]
    }
   ],
   "source": [
    "from asari.api import Sonar\n",
    "\n",
    "# Sonarインスタンスの生成\n",
    "sonar = Sonar()\n",
    "\n",
    "# 感情分析したい文章\n",
    "text = \"この映画はとても面白かった！\"\n",
    "\n",
    "# 分析の実行\n",
    "result = sonar.ping(text)\n",
    "\n",
    "# 結果の表示\n",
    "print(result)"
   ]
  },
  {
   "cell_type": "markdown",
   "id": "9ec86ed5-8938-472c-98de-4c185928fdfe",
   "metadata": {},
   "source": [
    "---"
   ]
  },
  {
   "cell_type": "markdown",
   "id": "e55114c8-d72a-41cc-aebc-ecc266debb56",
   "metadata": {},
   "source": [
    "# ワードクラウドの概要と利用例\n",
    "\n",
    "ワードクラウド（Word Cloud）は、テキストデータに含まれる単語の出現頻度を視覚的に表現する手法です。  \n",
    "単語の出現回数が多いほどフォントサイズを大きく表示し、テキスト全体の特徴や主要なキーワードを直感的に把握できます。\n",
    "\n",
    "## 基本的な考え方\n",
    "\n",
    "- 入力テキストを単語に分割（トークン化）する\n",
    "- 単語の出現頻度をカウントする\n",
    "- 頻度に応じて文字サイズを変化させて単語を配置する\n",
    "\n",
    "ワードクラウドでは、文章全体の「単語の重要性」を視覚的に確認できるため、探索的データ分析（EDA）や報告資料においてよく利用されます。\n",
    "\n",
    "## 作成手順\n",
    "\n",
    "1. **テキストの前処理**\n",
    "   - 形態素解析を用いて単語単位に分割\n",
    "   - 不要な品詞（助詞や記号など）を除外\n",
    "\n",
    "2. **単語の出現頻度集計**\n",
    "   - 各単語がテキスト内で何回出現したかをカウント\n",
    "\n",
    "3. **レイアウト生成**\n",
    "   - 頻度をもとにフォントサイズを決定\n",
    "   - 単語を視認性の高いランダム配置で描画\n",
    "\n",
    "4. **可視化**\n",
    "   - 背景色やカラースケールで強調\n",
    "   - 円形やハート形など形状を調整可能\n",
    "\n",
    "## 利用例\n",
    "\n",
    "- アンケートの自由記述回答から頻出ワードを抽出\n",
    "- SNSやレビューの傾向を可視化\n",
    "- 論文やニュース記事の主要な話題を把握\n",
    "- 共起ネットワークなど他の手法と組み合わせて特徴を分析\n",
    "\n",
    "## Pythonによる実装例\n",
    "\n",
    "Pythonでは`wordcloud`ライブラリを用いることで簡単に作成できます。"
   ]
  },
  {
   "cell_type": "code",
   "execution_count": 41,
   "id": "156919e1-94e4-4791-993f-59e535cf89d4",
   "metadata": {},
   "outputs": [
    {
     "ename": "ModuleNotFoundError",
     "evalue": "No module named 'wordcloud'",
     "output_type": "error",
     "traceback": [
      "\u001b[1;31m---------------------------------------------------------------------------\u001b[0m",
      "\u001b[1;31mModuleNotFoundError\u001b[0m                       Traceback (most recent call last)",
      "Cell \u001b[1;32mIn[41], line 2\u001b[0m\n\u001b[0;32m      1\u001b[0m \u001b[38;5;28;01mfrom\u001b[39;00m \u001b[38;5;21;01mjanome\u001b[39;00m\u001b[38;5;21;01m.\u001b[39;00m\u001b[38;5;21;01mtokenizer\u001b[39;00m \u001b[38;5;28;01mimport\u001b[39;00m Tokenizer\n\u001b[1;32m----> 2\u001b[0m \u001b[38;5;28;01mfrom\u001b[39;00m \u001b[38;5;21;01mwordcloud\u001b[39;00m \u001b[38;5;28;01mimport\u001b[39;00m WordCloud\n\u001b[0;32m      3\u001b[0m \u001b[38;5;28;01mimport\u001b[39;00m \u001b[38;5;21;01mmatplotlib\u001b[39;00m\u001b[38;5;21;01m.\u001b[39;00m\u001b[38;5;21;01mpyplot\u001b[39;00m \u001b[38;5;28;01mas\u001b[39;00m \u001b[38;5;21;01mplt\u001b[39;00m\n\u001b[0;32m      5\u001b[0m \u001b[38;5;66;03m# テキスト例\u001b[39;00m\n",
      "\u001b[1;31mModuleNotFoundError\u001b[0m: No module named 'wordcloud'"
     ]
    }
   ],
   "source": [
    "from janome.tokenizer import Tokenizer\n",
    "from wordcloud import WordCloud\n",
    "import matplotlib.pyplot as plt\n",
    "\n",
    "# テキスト例\n",
    "text = \"猫が庭で遊んでいる。犬と猫が仲良く遊ぶ。\"\n",
    "\n",
    "# Janomeで形態素解析し、名詞だけ抽出\n",
    "tokenizer = Tokenizer()\n",
    "words = [token.surface for token in tokenizer.tokenize(text)\n",
    "         if token.part_of_speech.startswith(\"名詞\")]\n",
    "\n",
    "# スペース区切りにする\n",
    "words_joined = \" \".join(words)\n",
    "\n",
    "# ワードクラウド生成\n",
    "wc = WordCloud(font_path=\"path_to_japanese_font.ttf\",  # 日本語フォントのパスを指定\n",
    "               width=600,\n",
    "               height=400,\n",
    "               background_color=\"white\").generate(words_joined)\n",
    "\n",
    "# 表示\n",
    "plt.figure(figsize=(8, 6))\n",
    "plt.imshow(wc, interpolation=\"bilinear\")\n",
    "plt.axis(\"off\")\n",
    "plt.show()\n"
   ]
  },
  {
   "cell_type": "markdown",
   "id": "f2d18f86-8480-4d71-9a88-d4b3437d3d56",
   "metadata": {},
   "source": [
    "---"
   ]
  },
  {
   "cell_type": "markdown",
   "id": "bc62d3fa-07c8-4171-b02d-bbe94ba29072",
   "metadata": {},
   "source": [
    "# まとめ\n",
    "\n",
    "本ノートブックでは、日本語テキストを対象とした基本的な解析手法について実装を交えながら確認しました。\n",
    "\n",
    "- 形態素解析により、文章を構成する単語や品詞情報を取得\n",
    "- 共起ネットワークによって、単語間のつながりと構造的な関係を可視化\n",
    "- ワードクラウドにより、頻出語を視覚的に把握\n",
    "- 感情分析を通じて、テキストに含まれる主観的傾向を定量化\n",
    "\n",
    "これらの手法はいずれも、テキストデータの性質を理解する上での基礎的なステップです。\n",
    "\n",
    "次のノートブック（実践編）では、ここで紹介した技術を応用し、実際のテキストデータ（例：SNS投稿、レビュー、ニュース記事など）を用いた分析に進みます。  \n",
    "具体的には、分析対象ごとの特徴抽出や比較、可視化、レポート生成までを含む実践的なプロセスを扱います。\n"
   ]
  },
  {
   "cell_type": "code",
   "execution_count": null,
   "id": "9c204ecf-9834-4660-8abd-cb69ffa404a4",
   "metadata": {},
   "outputs": [],
   "source": []
  }
 ],
 "metadata": {
  "kernelspec": {
   "display_name": "Python 3 (ipykernel)",
   "language": "python",
   "name": "python3"
  },
  "language_info": {
   "codemirror_mode": {
    "name": "ipython",
    "version": 3
   },
   "file_extension": ".py",
   "mimetype": "text/x-python",
   "name": "python",
   "nbconvert_exporter": "python",
   "pygments_lexer": "ipython3",
   "version": "3.12.7"
  }
 },
 "nbformat": 4,
 "nbformat_minor": 5
}
